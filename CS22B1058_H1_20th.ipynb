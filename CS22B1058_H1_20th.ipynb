{
 "cells": [
  {
   "cell_type": "markdown",
   "metadata": {},
   "source": [
    "Setup and Imports"
   ]
  },
  {
   "cell_type": "code",
   "execution_count": 42,
   "metadata": {},
   "outputs": [],
   "source": [
    "import tensorflow as tf\n",
    "from tensorflow import keras\n",
    "from tensorflow.keras.models import Sequential\n",
    "from tensorflow.keras.layers import Conv2D, MaxPooling2D, Flatten, Dense, Dropout, BatchNormalization\n",
    "from tensorflow.keras.regularizers import l1_l2\n",
    "from tensorflow.keras.preprocessing.image import ImageDataGenerator\n",
    "import matplotlib.pyplot as plt\n",
    "import numpy as np\n",
    "import os\n"
   ]
  },
  {
   "cell_type": "markdown",
   "metadata": {},
   "source": [
    "Load and Preprocess Dataset"
   ]
  },
  {
   "cell_type": "code",
   "execution_count": 43,
   "metadata": {},
   "outputs": [
    {
     "name": "stdout",
     "output_type": "stream",
     "text": [
      "Found 19968 images belonging to 2 classes.\n",
      "Found 4991 images belonging to 2 classes.\n",
      "Found 24959 images belonging to 2 classes.\n"
     ]
    }
   ],
   "source": [
    "dataset_path = r\"C:\\Users\\Acer\\OneDrive\\Documents\\GenAI-HW-1\\PetImages\"\n",
    "\n",
    "# Image parameters\n",
    "img_size = (150, 150)\n",
    "batch_size = 32\n",
    "\n",
    "# Data augmentation for training\n",
    "train_datagen = ImageDataGenerator(\n",
    "    rescale=1.0/255,\n",
    "    validation_split=0.2\n",
    ")\n",
    "\n",
    "test_datagen = ImageDataGenerator(rescale=1.0/255)\n",
    "\n",
    "# Load train and validation sets\n",
    "train_generator = train_datagen.flow_from_directory(\n",
    "    dataset_path,\n",
    "    target_size=img_size,\n",
    "    batch_size=batch_size,\n",
    "    class_mode='binary',\n",
    "    subset='training'\n",
    ")\n",
    "\n",
    "val_generator = train_datagen.flow_from_directory(\n",
    "    dataset_path,\n",
    "    target_size=img_size,\n",
    "    batch_size=batch_size,\n",
    "    class_mode='binary',\n",
    "    subset='validation'\n",
    ")\n",
    "\n",
    "# Load test set (if available)\n",
    "test_generator = test_datagen.flow_from_directory(\n",
    "    dataset_path,\n",
    "    target_size=img_size,\n",
    "    batch_size=batch_size,\n",
    "    class_mode='binary'\n",
    ")\n"
   ]
  },
  {
   "cell_type": "markdown",
   "metadata": {},
   "source": [
    " Define Models\n",
    "1. Baseline Model (No Regularization)"
   ]
  },
  {
   "cell_type": "code",
   "execution_count": 44,
   "metadata": {},
   "outputs": [],
   "source": [
    "def build_baseline_model():\n",
    "    model = Sequential([\n",
    "        Conv2D(32, (3,3), activation='relu', input_shape=(150,150,3)),\n",
    "        MaxPooling2D(2,2),\n",
    "        Conv2D(64, (3,3), activation='relu'),\n",
    "        MaxPooling2D(2,2),\n",
    "        Conv2D(128, (3,3), activation='relu'),\n",
    "        MaxPooling2D(2,2),\n",
    "        Flatten(),\n",
    "        Dense(512, activation='relu'),\n",
    "        Dense(1, activation='sigmoid')\n",
    "    ])\n",
    "    model.compile(optimizer='adam', loss='binary_crossentropy', metrics=['accuracy'])\n",
    "    return model\n"
   ]
  },
  {
   "cell_type": "markdown",
   "metadata": {},
   "source": [
    "2. Model with L1/L2 Regularization"
   ]
  },
  {
   "cell_type": "code",
   "execution_count": 45,
   "metadata": {},
   "outputs": [],
   "source": [
    "def build_l1_l2_model():\n",
    "    model = Sequential([\n",
    "        Conv2D(32, (3,3), activation='relu', kernel_regularizer=l1_l2(0.01, 0.01), input_shape=(150,150,3)),\n",
    "        MaxPooling2D(2,2),\n",
    "        Conv2D(64, (3,3), activation='relu', kernel_regularizer=l1_l2(0.01, 0.01)),\n",
    "        MaxPooling2D(2,2),\n",
    "        Conv2D(128, (3,3), activation='relu', kernel_regularizer=l1_l2(0.01, 0.01)),\n",
    "        MaxPooling2D(2,2),\n",
    "        Flatten(),\n",
    "        Dense(512, activation='relu', kernel_regularizer=l1_l2(0.01, 0.01)),\n",
    "        Dense(1, activation='sigmoid')\n",
    "    ])\n",
    "    model.compile(optimizer='adam', loss='binary_crossentropy', metrics=['accuracy'])\n",
    "    return model\n"
   ]
  },
  {
   "cell_type": "markdown",
   "metadata": {},
   "source": [
    "3. Model with Dropout"
   ]
  },
  {
   "cell_type": "code",
   "execution_count": 46,
   "metadata": {},
   "outputs": [],
   "source": [
    "def build_dropout_model():\n",
    "    model = Sequential([\n",
    "        Conv2D(32, (3,3), activation='relu', input_shape=(150,150,3)),\n",
    "        MaxPooling2D(2,2),\n",
    "        Dropout(0.2),\n",
    "        Conv2D(64, (3,3), activation='relu'),\n",
    "        MaxPooling2D(2,2),\n",
    "        Dropout(0.3),\n",
    "        Conv2D(128, (3,3), activation='relu'),\n",
    "        MaxPooling2D(2,2),\n",
    "        Flatten(),\n",
    "        Dropout(0.4),\n",
    "        Dense(512, activation='relu'),\n",
    "        Dropout(0.5),\n",
    "        Dense(1, activation='sigmoid')\n",
    "    ])\n",
    "    model.compile(optimizer='adam', loss='binary_crossentropy', metrics=['accuracy'])\n",
    "    return model\n"
   ]
  },
  {
   "cell_type": "markdown",
   "metadata": {},
   "source": [
    "4. Model with Data Augmentation"
   ]
  },
  {
   "cell_type": "code",
   "execution_count": 47,
   "metadata": {},
   "outputs": [
    {
     "name": "stdout",
     "output_type": "stream",
     "text": [
      "Found 19968 images belonging to 2 classes.\n"
     ]
    }
   ],
   "source": [
    "augmented_train_datagen = ImageDataGenerator(\n",
    "    rescale=1.0/255,\n",
    "    rotation_range=40,\n",
    "    width_shift_range=0.2,\n",
    "    height_shift_range=0.2,\n",
    "    shear_range=0.2,\n",
    "    zoom_range=0.2,\n",
    "    horizontal_flip=True,\n",
    "    validation_split=0.2\n",
    ")\n",
    "\n",
    "augmented_train_generator = augmented_train_datagen.flow_from_directory(\n",
    "    dataset_path,\n",
    "    target_size=img_size,\n",
    "    batch_size=batch_size,\n",
    "    class_mode='binary',\n",
    "    subset='training'\n",
    ")\n",
    "\n",
    "def build_augmented_model():\n",
    "    model = Sequential([\n",
    "        Conv2D(32, (3,3), activation='relu', input_shape=(150,150,3)),\n",
    "        MaxPooling2D(2,2),\n",
    "        Conv2D(64, (3,3), activation='relu'),\n",
    "        MaxPooling2D(2,2),\n",
    "        Conv2D(128, (3,3), activation='relu'),\n",
    "        MaxPooling2D(2,2),\n",
    "        Flatten(),\n",
    "        Dense(512, activation='relu'),\n",
    "        Dense(1, activation='sigmoid')\n",
    "    ])\n",
    "    model.compile(optimizer='adam', loss='binary_crossentropy', metrics=['accuracy'])\n",
    "    return model\n"
   ]
  },
  {
   "cell_type": "markdown",
   "metadata": {},
   "source": [
    "Train and Evaluate Models"
   ]
  },
  {
   "cell_type": "code",
   "execution_count": 48,
   "metadata": {},
   "outputs": [
    {
     "name": "stdout",
     "output_type": "stream",
     "text": [
      "\n",
      "Training Baseline Model...\n",
      "\n"
     ]
    },
    {
     "name": "stderr",
     "output_type": "stream",
     "text": [
      "c:\\Users\\Acer\\anaconda3\\Lib\\site-packages\\keras\\src\\trainers\\data_adapters\\py_dataset_adapter.py:121: UserWarning: Your `PyDataset` class should call `super().__init__(**kwargs)` in its constructor. `**kwargs` can include `workers`, `use_multiprocessing`, `max_queue_size`. Do not pass these arguments to `fit()`, as they will be ignored.\n",
      "  self._warn_if_super_not_called()\n"
     ]
    },
    {
     "name": "stdout",
     "output_type": "stream",
     "text": [
      "Epoch 1/10\n",
      "\u001b[1m492/624\u001b[0m \u001b[32m━━━━━━━━━━━━━━━\u001b[0m\u001b[37m━━━━━\u001b[0m \u001b[1m1:08\u001b[0m 519ms/step - accuracy: 0.5500 - loss: 0.7026"
     ]
    },
    {
     "name": "stderr",
     "output_type": "stream",
     "text": [
      "c:\\Users\\Acer\\anaconda3\\Lib\\site-packages\\PIL\\TiffImagePlugin.py:900: UserWarning: Truncated File Read\n",
      "  warnings.warn(str(msg))\n"
     ]
    },
    {
     "name": "stdout",
     "output_type": "stream",
     "text": [
      "\u001b[1m624/624\u001b[0m \u001b[32m━━━━━━━━━━━━━━━━━━━━\u001b[0m\u001b[37m\u001b[0m \u001b[1m355s\u001b[0m 564ms/step - accuracy: 0.5634 - loss: 0.6916 - val_accuracy: 0.7469 - val_loss: 0.5065\n",
      "Epoch 2/10\n",
      "\u001b[1m624/624\u001b[0m \u001b[32m━━━━━━━━━━━━━━━━━━━━\u001b[0m\u001b[37m\u001b[0m \u001b[1m325s\u001b[0m 520ms/step - accuracy: 0.7462 - loss: 0.5090 - val_accuracy: 0.7912 - val_loss: 0.4457\n",
      "Epoch 3/10\n",
      "\u001b[1m624/624\u001b[0m \u001b[32m━━━━━━━━━━━━━━━━━━━━\u001b[0m\u001b[37m\u001b[0m \u001b[1m343s\u001b[0m 550ms/step - accuracy: 0.8205 - loss: 0.3971 - val_accuracy: 0.7672 - val_loss: 0.4915\n",
      "Epoch 4/10\n",
      "\u001b[1m624/624\u001b[0m \u001b[32m━━━━━━━━━━━━━━━━━━━━\u001b[0m\u001b[37m\u001b[0m \u001b[1m347s\u001b[0m 557ms/step - accuracy: 0.8661 - loss: 0.3051 - val_accuracy: 0.8349 - val_loss: 0.3734\n",
      "Epoch 5/10\n",
      "\u001b[1m624/624\u001b[0m \u001b[32m━━━━━━━━━━━━━━━━━━━━\u001b[0m\u001b[37m\u001b[0m \u001b[1m414s\u001b[0m 663ms/step - accuracy: 0.9263 - loss: 0.1837 - val_accuracy: 0.8271 - val_loss: 0.4668\n",
      "Epoch 6/10\n",
      "\u001b[1m624/624\u001b[0m \u001b[32m━━━━━━━━━━━━━━━━━━━━\u001b[0m\u001b[37m\u001b[0m \u001b[1m517s\u001b[0m 829ms/step - accuracy: 0.9713 - loss: 0.0813 - val_accuracy: 0.8067 - val_loss: 0.7162\n",
      "Epoch 7/10\n",
      "\u001b[1m624/624\u001b[0m \u001b[32m━━━━━━━━━━━━━━━━━━━━\u001b[0m\u001b[37m\u001b[0m \u001b[1m681s\u001b[0m 1s/step - accuracy: 0.9885 - loss: 0.0365 - val_accuracy: 0.8245 - val_loss: 0.7325\n",
      "Epoch 8/10\n",
      "\u001b[1m624/624\u001b[0m \u001b[32m━━━━━━━━━━━━━━━━━━━━\u001b[0m\u001b[37m\u001b[0m \u001b[1m415s\u001b[0m 664ms/step - accuracy: 0.9917 - loss: 0.0269 - val_accuracy: 0.8231 - val_loss: 0.8240\n",
      "Epoch 9/10\n",
      "\u001b[1m624/624\u001b[0m \u001b[32m━━━━━━━━━━━━━━━━━━━━\u001b[0m\u001b[37m\u001b[0m \u001b[1m387s\u001b[0m 619ms/step - accuracy: 0.9970 - loss: 0.0112 - val_accuracy: 0.8267 - val_loss: 0.9120\n",
      "Epoch 10/10\n",
      "\u001b[1m624/624\u001b[0m \u001b[32m━━━━━━━━━━━━━━━━━━━━\u001b[0m\u001b[37m\u001b[0m \u001b[1m369s\u001b[0m 592ms/step - accuracy: 0.9960 - loss: 0.0121 - val_accuracy: 0.7916 - val_loss: 1.0607\n",
      "\n",
      "Training L1/L2 Regularization Model...\n",
      "\n",
      "Epoch 1/10\n",
      "\u001b[1m624/624\u001b[0m \u001b[32m━━━━━━━━━━━━━━━━━━━━\u001b[0m\u001b[37m\u001b[0m \u001b[1m508s\u001b[0m 803ms/step - accuracy: 0.5035 - loss: 96.7891 - val_accuracy: 0.4995 - val_loss: 24.3048\n",
      "Epoch 2/10\n",
      "\u001b[1m624/624\u001b[0m \u001b[32m━━━━━━━━━━━━━━━━━━━━\u001b[0m\u001b[37m\u001b[0m \u001b[1m592s\u001b[0m 949ms/step - accuracy: 0.5049 - loss: 24.4550 - val_accuracy: 0.4995 - val_loss: 24.6196\n",
      "Epoch 3/10\n",
      "\u001b[1m624/624\u001b[0m \u001b[32m━━━━━━━━━━━━━━━━━━━━\u001b[0m\u001b[37m\u001b[0m \u001b[1m593s\u001b[0m 949ms/step - accuracy: 0.4969 - loss: 24.5744 - val_accuracy: 0.5005 - val_loss: 24.3987\n",
      "Epoch 4/10\n",
      "\u001b[1m624/624\u001b[0m \u001b[32m━━━━━━━━━━━━━━━━━━━━\u001b[0m\u001b[37m\u001b[0m \u001b[1m596s\u001b[0m 954ms/step - accuracy: 0.4941 - loss: 24.8945 - val_accuracy: 0.5005 - val_loss: 25.4168\n",
      "Epoch 5/10\n",
      "\u001b[1m624/624\u001b[0m \u001b[32m━━━━━━━━━━━━━━━━━━━━\u001b[0m\u001b[37m\u001b[0m \u001b[1m599s\u001b[0m 960ms/step - accuracy: 0.4968 - loss: 25.3543 - val_accuracy: 0.5005 - val_loss: 25.3974\n",
      "Epoch 6/10\n",
      "\u001b[1m624/624\u001b[0m \u001b[32m━━━━━━━━━━━━━━━━━━━━\u001b[0m\u001b[37m\u001b[0m \u001b[1m594s\u001b[0m 951ms/step - accuracy: 0.4998 - loss: 25.3711 - val_accuracy: 0.5005 - val_loss: 24.9171\n",
      "Epoch 7/10\n",
      "\u001b[1m624/624\u001b[0m \u001b[32m━━━━━━━━━━━━━━━━━━━━\u001b[0m\u001b[37m\u001b[0m \u001b[1m607s\u001b[0m 972ms/step - accuracy: 0.4975 - loss: 25.3851 - val_accuracy: 0.5005 - val_loss: 25.3086\n",
      "Epoch 8/10\n",
      "\u001b[1m624/624\u001b[0m \u001b[32m━━━━━━━━━━━━━━━━━━━━\u001b[0m\u001b[37m\u001b[0m \u001b[1m613s\u001b[0m 981ms/step - accuracy: 0.4988 - loss: 25.3885 - val_accuracy: 0.5005 - val_loss: 25.5725\n",
      "Epoch 9/10\n",
      "\u001b[1m624/624\u001b[0m \u001b[32m━━━━━━━━━━━━━━━━━━━━\u001b[0m\u001b[37m\u001b[0m \u001b[1m620s\u001b[0m 979ms/step - accuracy: 0.4937 - loss: 25.3887 - val_accuracy: 0.5005 - val_loss: 25.5298\n",
      "Epoch 10/10\n",
      "\u001b[1m624/624\u001b[0m \u001b[32m━━━━━━━━━━━━━━━━━━━━\u001b[0m\u001b[37m\u001b[0m \u001b[1m619s\u001b[0m 992ms/step - accuracy: 0.5022 - loss: 25.3888 - val_accuracy: 0.5005 - val_loss: 25.0426\n",
      "\n",
      "Training Dropout Model...\n",
      "\n",
      "Epoch 1/10\n",
      "\u001b[1m624/624\u001b[0m \u001b[32m━━━━━━━━━━━━━━━━━━━━\u001b[0m\u001b[37m\u001b[0m \u001b[1m587s\u001b[0m 925ms/step - accuracy: 0.5236 - loss: 0.8091 - val_accuracy: 0.6221 - val_loss: 0.6565\n",
      "Epoch 2/10\n",
      "\u001b[1m624/624\u001b[0m \u001b[32m━━━━━━━━━━━━━━━━━━━━\u001b[0m\u001b[37m\u001b[0m \u001b[1m637s\u001b[0m 950ms/step - accuracy: 0.6247 - loss: 0.6465 - val_accuracy: 0.6878 - val_loss: 0.5844\n",
      "Epoch 3/10\n",
      "\u001b[1m624/624\u001b[0m \u001b[32m━━━━━━━━━━━━━━━━━━━━\u001b[0m\u001b[37m\u001b[0m \u001b[1m586s\u001b[0m 938ms/step - accuracy: 0.7137 - loss: 0.5624 - val_accuracy: 0.7417 - val_loss: 0.5267\n",
      "Epoch 4/10\n",
      "\u001b[1m624/624\u001b[0m \u001b[32m━━━━━━━━━━━━━━━━━━━━\u001b[0m\u001b[37m\u001b[0m \u001b[1m576s\u001b[0m 923ms/step - accuracy: 0.7718 - loss: 0.4753 - val_accuracy: 0.7806 - val_loss: 0.4731\n",
      "Epoch 5/10\n",
      "\u001b[1m624/624\u001b[0m \u001b[32m━━━━━━━━━━━━━━━━━━━━\u001b[0m\u001b[37m\u001b[0m \u001b[1m577s\u001b[0m 925ms/step - accuracy: 0.8140 - loss: 0.4177 - val_accuracy: 0.8143 - val_loss: 0.4106\n",
      "Epoch 6/10\n",
      "\u001b[1m624/624\u001b[0m \u001b[32m━━━━━━━━━━━━━━━━━━━━\u001b[0m\u001b[37m\u001b[0m \u001b[1m579s\u001b[0m 926ms/step - accuracy: 0.8400 - loss: 0.3636 - val_accuracy: 0.8157 - val_loss: 0.4040\n",
      "Epoch 7/10\n",
      "\u001b[1m624/624\u001b[0m \u001b[32m━━━━━━━━━━━━━━━━━━━━\u001b[0m\u001b[37m\u001b[0m \u001b[1m578s\u001b[0m 926ms/step - accuracy: 0.8466 - loss: 0.3394 - val_accuracy: 0.8341 - val_loss: 0.3792\n",
      "Epoch 8/10\n",
      "\u001b[1m624/624\u001b[0m \u001b[32m━━━━━━━━━━━━━━━━━━━━\u001b[0m\u001b[37m\u001b[0m \u001b[1m579s\u001b[0m 927ms/step - accuracy: 0.8708 - loss: 0.3015 - val_accuracy: 0.8409 - val_loss: 0.3816\n",
      "Epoch 9/10\n",
      "\u001b[1m624/624\u001b[0m \u001b[32m━━━━━━━━━━━━━━━━━━━━\u001b[0m\u001b[37m\u001b[0m \u001b[1m609s\u001b[0m 975ms/step - accuracy: 0.8985 - loss: 0.2430 - val_accuracy: 0.8331 - val_loss: 0.3920\n",
      "Epoch 10/10\n",
      "\u001b[1m624/624\u001b[0m \u001b[32m━━━━━━━━━━━━━━━━━━━━\u001b[0m\u001b[37m\u001b[0m \u001b[1m606s\u001b[0m 971ms/step - accuracy: 0.9133 - loss: 0.2177 - val_accuracy: 0.8295 - val_loss: 0.3965\n",
      "\n",
      "Training Data Augmentation Model...\n",
      "\n",
      "Epoch 1/10\n",
      "\u001b[1m624/624\u001b[0m \u001b[32m━━━━━━━━━━━━━━━━━━━━\u001b[0m\u001b[37m\u001b[0m \u001b[1m729s\u001b[0m 1s/step - accuracy: 0.5779 - loss: 0.6886 - val_accuracy: 0.6997 - val_loss: 0.5710\n",
      "Epoch 2/10\n",
      "\u001b[1m624/624\u001b[0m \u001b[32m━━━━━━━━━━━━━━━━━━━━\u001b[0m\u001b[37m\u001b[0m \u001b[1m667s\u001b[0m 1s/step - accuracy: 0.6796 - loss: 0.5923 - val_accuracy: 0.7540 - val_loss: 0.5041\n",
      "Epoch 3/10\n",
      "\u001b[1m624/624\u001b[0m \u001b[32m━━━━━━━━━━━━━━━━━━━━\u001b[0m\u001b[37m\u001b[0m \u001b[1m702s\u001b[0m 1s/step - accuracy: 0.7078 - loss: 0.5637 - val_accuracy: 0.7504 - val_loss: 0.5147\n",
      "Epoch 4/10\n",
      "\u001b[1m624/624\u001b[0m \u001b[32m━━━━━━━━━━━━━━━━━━━━\u001b[0m\u001b[37m\u001b[0m \u001b[1m550s\u001b[0m 880ms/step - accuracy: 0.7320 - loss: 0.5345 - val_accuracy: 0.8034 - val_loss: 0.4549\n",
      "Epoch 5/10\n",
      "\u001b[1m624/624\u001b[0m \u001b[32m━━━━━━━━━━━━━━━━━━━━\u001b[0m\u001b[37m\u001b[0m \u001b[1m456s\u001b[0m 731ms/step - accuracy: 0.7482 - loss: 0.5062 - val_accuracy: 0.8085 - val_loss: 0.4188\n",
      "Epoch 6/10\n",
      "\u001b[1m624/624\u001b[0m \u001b[32m━━━━━━━━━━━━━━━━━━━━\u001b[0m\u001b[37m\u001b[0m \u001b[1m448s\u001b[0m 718ms/step - accuracy: 0.7679 - loss: 0.4805 - val_accuracy: 0.8239 - val_loss: 0.4025\n",
      "Epoch 7/10\n",
      "\u001b[1m624/624\u001b[0m \u001b[32m━━━━━━━━━━━━━━━━━━━━\u001b[0m\u001b[37m\u001b[0m \u001b[1m453s\u001b[0m 725ms/step - accuracy: 0.7757 - loss: 0.4679 - val_accuracy: 0.8205 - val_loss: 0.3992\n",
      "Epoch 8/10\n",
      "\u001b[1m624/624\u001b[0m \u001b[32m━━━━━━━━━━━━━━━━━━━━\u001b[0m\u001b[37m\u001b[0m \u001b[1m453s\u001b[0m 725ms/step - accuracy: 0.7908 - loss: 0.4501 - val_accuracy: 0.8205 - val_loss: 0.4032\n",
      "Epoch 9/10\n",
      "\u001b[1m624/624\u001b[0m \u001b[32m━━━━━━━━━━━━━━━━━━━━\u001b[0m\u001b[37m\u001b[0m \u001b[1m462s\u001b[0m 740ms/step - accuracy: 0.8013 - loss: 0.4283 - val_accuracy: 0.8223 - val_loss: 0.4017\n",
      "Epoch 10/10\n",
      "\u001b[1m624/624\u001b[0m \u001b[32m━━━━━━━━━━━━━━━━━━━━\u001b[0m\u001b[37m\u001b[0m \u001b[1m472s\u001b[0m 756ms/step - accuracy: 0.8101 - loss: 0.4115 - val_accuracy: 0.8419 - val_loss: 0.3580\n"
     ]
    }
   ],
   "source": [
    "models = {\n",
    "    \"Baseline\": build_baseline_model(),\n",
    "    \"L1/L2 Regularization\": build_l1_l2_model(),\n",
    "    \"Dropout\": build_dropout_model(),\n",
    "    \"Data Augmentation\": build_augmented_model()\n",
    "}\n",
    "\n",
    "history_dict = {}\n",
    "\n",
    "for model_name, model in models.items():\n",
    "    print(f\"\\nTraining {model_name} Model...\\n\")\n",
    "    \n",
    "    if model_name == \"Data Augmentation\":\n",
    "        history = model.fit(augmented_train_generator, validation_data=val_generator, epochs=10)\n",
    "    else:\n",
    "        history = model.fit(train_generator, validation_data=val_generator, epochs=10)\n",
    "    \n",
    "    history_dict[model_name] = history\n"
   ]
  },
  {
   "cell_type": "markdown",
   "metadata": {},
   "source": [
    "Compare Test Accuracies"
   ]
  },
  {
   "cell_type": "code",
   "execution_count": 49,
   "metadata": {},
   "outputs": [
    {
     "name": "stdout",
     "output_type": "stream",
     "text": [
      "\n",
      "Evaluating Baseline Model...\n",
      "\n",
      "\u001b[1m780/780\u001b[0m \u001b[32m━━━━━━━━━━━━━━━━━━━━\u001b[0m\u001b[37m\u001b[0m \u001b[1m164s\u001b[0m 209ms/step - accuracy: 0.9424 - loss: 0.2691\n",
      "\n",
      "Evaluating L1/L2 Regularization Model...\n",
      "\n",
      "\u001b[1m780/780\u001b[0m \u001b[32m━━━━━━━━━━━━━━━━━━━━\u001b[0m\u001b[37m\u001b[0m \u001b[1m190s\u001b[0m 244ms/step - accuracy: 0.4986 - loss: 25.0427\n",
      "\n",
      "Evaluating Dropout Model...\n",
      "\n",
      "\u001b[1m780/780\u001b[0m \u001b[32m━━━━━━━━━━━━━━━━━━━━\u001b[0m\u001b[37m\u001b[0m \u001b[1m174s\u001b[0m 223ms/step - accuracy: 0.9336 - loss: 0.1817\n",
      "\n",
      "Evaluating Data Augmentation Model...\n",
      "\n",
      "\u001b[1m780/780\u001b[0m \u001b[32m━━━━━━━━━━━━━━━━━━━━\u001b[0m\u001b[37m\u001b[0m \u001b[1m172s\u001b[0m 221ms/step - accuracy: 0.8500 - loss: 0.3520\n",
      "\n",
      "Test Accuracies:\n",
      "Baseline: 0.9458\n",
      "L1/L2 Regularization: 0.5004\n",
      "Dropout: 0.9339\n",
      "Data Augmentation: 0.8490\n"
     ]
    }
   ],
   "source": [
    "test_results = {}\n",
    "\n",
    "for model_name, model in models.items():\n",
    "    print(f\"\\nEvaluating {model_name} Model...\\n\")\n",
    "    test_loss, test_acc = model.evaluate(test_generator)\n",
    "    test_results[model_name] = test_acc\n",
    "\n",
    "print(\"\\nTest Accuracies:\")\n",
    "for model, acc in test_results.items():\n",
    "    print(f\"{model}: {acc:.4f}\")\n"
   ]
  }
 ],
 "metadata": {
  "kernelspec": {
   "display_name": "base",
   "language": "python",
   "name": "python3"
  },
  "language_info": {
   "codemirror_mode": {
    "name": "ipython",
    "version": 3
   },
   "file_extension": ".py",
   "mimetype": "text/x-python",
   "name": "python",
   "nbconvert_exporter": "python",
   "pygments_lexer": "ipython3",
   "version": "3.12.7"
  }
 },
 "nbformat": 4,
 "nbformat_minor": 2
}
